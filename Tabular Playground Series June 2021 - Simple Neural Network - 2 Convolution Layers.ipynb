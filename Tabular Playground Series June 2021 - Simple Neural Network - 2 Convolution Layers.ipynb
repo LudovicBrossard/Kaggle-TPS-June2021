{
 "cells": [
  {
   "cell_type": "markdown",
   "id": "structural-crown",
   "metadata": {},
   "source": [
    "Original Notebook: https://www.kaggle.com/pourchot/simple-neural-network"
   ]
  },
  {
   "cell_type": "markdown",
   "id": "radical-moses",
   "metadata": {},
   "source": [
    "## Simple Neural Networks - Modifications"
   ]
  },
  {
   "cell_type": "markdown",
   "id": "colonial-cooler",
   "metadata": {},
   "source": [
    "In this notebook, we will evaluate the performance of a slightly modified version of  the Neural Network presented in the notebook https://www.kaggle.com/pourchot/simple-neural-network. Some hyperparameters have been obtained through hyperparameters optimization using Keras Tuner."
   ]
  },
  {
   "cell_type": "code",
   "execution_count": 1,
   "id": "tracked-stroke",
   "metadata": {},
   "outputs": [],
   "source": [
    "# load pycodestyle-magic to be compliant with PEP8 conventions\n",
    "%load_ext pycodestyle_magic"
   ]
  },
  {
   "cell_type": "code",
   "execution_count": 2,
   "id": "russian-newspaper",
   "metadata": {},
   "outputs": [],
   "source": [
    "# activate pycodestyle for each cell\n",
    "%pycodestyle_on"
   ]
  },
  {
   "cell_type": "code",
   "execution_count": 17,
   "id": "rising-daily",
   "metadata": {},
   "outputs": [],
   "source": [
    "import pandas as pd\n",
    "import numpy as np\n",
    "import matplotlib.pyplot as plt\n",
    "from sklearn.model_selection import StratifiedKFold\n",
    "from sklearn import preprocessing\n",
    "from sklearn.metrics import log_loss\n",
    "from sklearn.model_selection import train_test_split\n",
    "import gc\n",
    "import tensorflow as tf\n",
    "import tensorflow_addons as tfa\n",
    "import tensorflow.keras.backend as K\n",
    "from tensorflow import keras\n",
    "import keras_tuner as kt\n",
    "from tensorflow.keras import layers\n",
    "from tensorflow.keras import activations,callbacks\n",
    "from tensorflow.keras.metrics import categorical_crossentropy\n",
    "from tensorflow.keras.utils import to_categorical\n",
    "from tensorflow.keras import initializers\n",
    "from tensorflow.keras.models import Model"
   ]
  },
  {
   "cell_type": "markdown",
   "id": "angry-presentation",
   "metadata": {},
   "source": [
    "### Data preparation"
   ]
  },
  {
   "cell_type": "code",
   "execution_count": 4,
   "id": "limited-dinner",
   "metadata": {},
   "outputs": [],
   "source": [
    "train = pd.read_csv('train.csv')\n",
    "test = pd.read_csv(\"test.csv\")"
   ]
  },
  {
   "cell_type": "code",
   "execution_count": 5,
   "id": "excited-postage",
   "metadata": {},
   "outputs": [],
   "source": [
    "train['target'] = train['target'].str[-1]\n",
    "train['target'] = train['target'].astype(int)"
   ]
  },
  {
   "cell_type": "code",
   "execution_count": 6,
   "id": "ancient-amber",
   "metadata": {},
   "outputs": [
    {
     "data": {
      "text/plain": [
       "((200000, 75), (200000,))"
      ]
     },
     "execution_count": 6,
     "metadata": {},
     "output_type": "execute_result"
    }
   ],
   "source": [
    "X = train.iloc[:, 1:-1].values\n",
    "y = train['target'].values\n",
    "X.shape, y.shape"
   ]
  },
  {
   "cell_type": "code",
   "execution_count": 7,
   "id": "balanced-guitar",
   "metadata": {},
   "outputs": [],
   "source": [
    "X_train, X_val, y_train, y_val = train_test_split(\n",
    "    X, y, test_size=0.2, stratify=y, random_state=0)"
   ]
  },
  {
   "cell_type": "code",
   "execution_count": 8,
   "id": "hybrid-heart",
   "metadata": {},
   "outputs": [],
   "source": [
    "num_classes = 9\n",
    "y_train = keras.utils.to_categorical(\n",
    "    y_train-1, num_classes)\n",
    "y_val = keras.utils.to_categorical(\n",
    "    y_val-1, num_classes)"
   ]
  },
  {
   "cell_type": "markdown",
   "id": "handled-parliament",
   "metadata": {},
   "source": [
    "### Custom metric, callbacks and model"
   ]
  },
  {
   "cell_type": "code",
   "execution_count": 9,
   "id": "medieval-letters",
   "metadata": {},
   "outputs": [],
   "source": [
    "cce = tf.keras.losses.CategoricalCrossentropy()\n",
    "def custom_metric(y_true, y_pred):\n",
    "    y_pred = K.clip(y_pred, 1e-15, 1-1e-15)\n",
    "    loss = K.mean(cce(y_true, y_pred))\n",
    "    return loss"
   ]
  },
  {
   "cell_type": "code",
   "execution_count": 10,
   "id": "hairy-soundtrack",
   "metadata": {},
   "outputs": [],
   "source": [
    "es = tf.keras.callbacks.EarlyStopping(\n",
    "    monitor='val_custom_metric',\n",
    "    min_delta=1e-05,\n",
    "    patience=10,\n",
    "    verbose=0,\n",
    "    mode='min',\n",
    "    baseline=None,\n",
    "    restore_best_weights=True)\n",
    "plateau = tf.keras.callbacks.ReduceLROnPlateau(\n",
    "    monitor='val_custom_metric',\n",
    "    factor=0.7,\n",
    "    patience=2,\n",
    "    verbose=0,\n",
    "    mode='min')"
   ]
  },
  {
   "cell_type": "code",
   "execution_count": 12,
   "id": "significant-variable",
   "metadata": {},
   "outputs": [],
   "source": [
    "def conv_model():\n",
    "\n",
    "    conv_inputs = layers.Input(shape=(75))\n",
    "    # Embedding layers\n",
    "    embed = layers.Embedding(\n",
    "        input_dim=354, \n",
    "        output_dim=11,\n",
    "        embeddings_regularizer='l2')(conv_inputs)\n",
    "    # Convolution layers\n",
    "    embed = layers.Conv1D(\n",
    "        10,\n",
    "        1,\n",
    "        activation='relu')(embed) \n",
    "    embed = layers.Conv1D(\n",
    "        10,\n",
    "        1,\n",
    "        activation='relu')(embed)\n",
    "    embed = layers.Flatten()(embed)\n",
    "    hidden = layers.Dropout(0.3)(embed)\n",
    "    # Residual blocks layers\n",
    "    hidden = tfa.layers.WeightNormalization(layers.Dense(\n",
    "        units=32,\n",
    "        activation='selu',\n",
    "        kernel_initializer=\"lecun_normal\"))(hidden)\n",
    "    output = layers.Dropout(0.3)(layers.Concatenate()([embed, hidden]))\n",
    "    output = tfa.layers.WeightNormalization(\n",
    "    layers.Dense(\n",
    "        units=36,\n",
    "        activation='relu',\n",
    "        kernel_initializer=\"lecun_normal\"))(output) \n",
    "    output = layers.Dropout(0.4)(layers.Concatenate()([embed, hidden, output]))\n",
    "    output = tfa.layers.WeightNormalization(layers.Dense(\n",
    "        units=32, \n",
    "        activation='elu',\n",
    "        kernel_initializer=\"lecun_normal\"))(output)\n",
    "    # Final layer\n",
    "    conv_outputs = layers.Dense(\n",
    "        units=9, \n",
    "        activation='softmax',\n",
    "        kernel_initializer=\"lecun_normal\")(output)\n",
    "    # Model instantiation\n",
    "    model = Model(conv_inputs,conv_outputs)\n",
    "    return model"
   ]
  },
  {
   "cell_type": "code",
   "execution_count": 13,
   "id": "controlled-broad",
   "metadata": {},
   "outputs": [
    {
     "name": "stdout",
     "output_type": "stream",
     "text": [
      "Model: \"model\"\n",
      "__________________________________________________________________________________________________\n",
      "Layer (type)                    Output Shape         Param #     Connected to                     \n",
      "==================================================================================================\n",
      "input_1 (InputLayer)            [(None, 75)]         0                                            \n",
      "__________________________________________________________________________________________________\n",
      "embedding (Embedding)           (None, 75, 11)       3894        input_1[0][0]                    \n",
      "__________________________________________________________________________________________________\n",
      "conv1d (Conv1D)                 (None, 75, 10)       120         embedding[0][0]                  \n",
      "__________________________________________________________________________________________________\n",
      "conv1d_1 (Conv1D)               (None, 75, 10)       110         conv1d[0][0]                     \n",
      "__________________________________________________________________________________________________\n",
      "flatten (Flatten)               (None, 750)          0           conv1d_1[0][0]                   \n",
      "__________________________________________________________________________________________________\n",
      "dropout (Dropout)               (None, 750)          0           flatten[0][0]                    \n",
      "__________________________________________________________________________________________________\n",
      "weight_normalization (WeightNor (None, 32)           48097       dropout[0][0]                    \n",
      "__________________________________________________________________________________________________\n",
      "concatenate (Concatenate)       (None, 782)          0           flatten[0][0]                    \n",
      "                                                                 weight_normalization[0][0]       \n",
      "__________________________________________________________________________________________________\n",
      "dropout_1 (Dropout)             (None, 782)          0           concatenate[0][0]                \n",
      "__________________________________________________________________________________________________\n",
      "weight_normalization_1 (WeightN (None, 36)           56413       dropout_1[0][0]                  \n",
      "__________________________________________________________________________________________________\n",
      "concatenate_1 (Concatenate)     (None, 818)          0           flatten[0][0]                    \n",
      "                                                                 weight_normalization[0][0]       \n",
      "                                                                 weight_normalization_1[0][0]     \n",
      "__________________________________________________________________________________________________\n",
      "dropout_2 (Dropout)             (None, 818)          0           concatenate_1[0][0]              \n",
      "__________________________________________________________________________________________________\n",
      "weight_normalization_2 (WeightN (None, 32)           52449       dropout_2[0][0]                  \n",
      "__________________________________________________________________________________________________\n",
      "dense_3 (Dense)                 (None, 9)            297         weight_normalization_2[0][0]     \n",
      "==================================================================================================\n",
      "Total params: 161,380\n",
      "Trainable params: 82,949\n",
      "Non-trainable params: 78,431\n",
      "__________________________________________________________________________________________________\n"
     ]
    }
   ],
   "source": [
    "model = conv_model()\n",
    "model.summary()"
   ]
  },
  {
   "cell_type": "code",
   "execution_count": 14,
   "id": "improved-upset",
   "metadata": {},
   "outputs": [
    {
     "name": "stdout",
     "output_type": "stream",
     "text": [
      "Epoch 1/50\n",
      "2500/2500 - 23s - loss: 1.8032 - custom_metric: 1.7987 - val_loss: 1.7542 - val_custom_metric: 1.7525\n",
      "Epoch 2/50\n",
      "2500/2500 - 20s - loss: 1.7669 - custom_metric: 1.7658 - val_loss: 1.7499 - val_custom_metric: 1.7491\n",
      "Epoch 3/50\n",
      "2500/2500 - 20s - loss: 1.7592 - custom_metric: 1.7585 - val_loss: 1.7481 - val_custom_metric: 1.7475\n",
      "Epoch 4/50\n",
      "2500/2500 - 21s - loss: 1.7558 - custom_metric: 1.7552 - val_loss: 1.7480 - val_custom_metric: 1.7475\n",
      "Epoch 5/50\n",
      "2500/2500 - 21s - loss: 1.7528 - custom_metric: 1.7523 - val_loss: 1.7465 - val_custom_metric: 1.7460\n",
      "Epoch 6/50\n",
      "2500/2500 - 20s - loss: 1.7510 - custom_metric: 1.7505 - val_loss: 1.7466 - val_custom_metric: 1.7461\n",
      "Epoch 7/50\n",
      "2500/2500 - 20s - loss: 1.7492 - custom_metric: 1.7487 - val_loss: 1.7463 - val_custom_metric: 1.7458\n",
      "Epoch 8/50\n",
      "2500/2500 - 21s - loss: 1.7481 - custom_metric: 1.7475 - val_loss: 1.7439 - val_custom_metric: 1.7433\n",
      "Epoch 9/50\n",
      "2500/2500 - 21s - loss: 1.7465 - custom_metric: 1.7459 - val_loss: 1.7457 - val_custom_metric: 1.7451\n",
      "Epoch 10/50\n",
      "2500/2500 - 22s - loss: 1.7457 - custom_metric: 1.7452 - val_loss: 1.7450 - val_custom_metric: 1.7445\n",
      "Epoch 11/50\n",
      "2500/2500 - 23s - loss: 1.7441 - custom_metric: 1.7435 - val_loss: 1.7439 - val_custom_metric: 1.7433\n",
      "Epoch 12/50\n",
      "2500/2500 - 23s - loss: 1.7428 - custom_metric: 1.7422 - val_loss: 1.7457 - val_custom_metric: 1.7451\n",
      "Epoch 13/50\n",
      "2500/2500 - 23s - loss: 1.7419 - custom_metric: 1.7413 - val_loss: 1.7434 - val_custom_metric: 1.7429\n",
      "Epoch 14/50\n",
      "2500/2500 - 23s - loss: 1.7416 - custom_metric: 1.7411 - val_loss: 1.7432 - val_custom_metric: 1.7426\n",
      "Epoch 15/50\n",
      "2500/2500 - 23s - loss: 1.7409 - custom_metric: 1.7403 - val_loss: 1.7443 - val_custom_metric: 1.7437\n",
      "Epoch 16/50\n",
      "2500/2500 - 23s - loss: 1.7406 - custom_metric: 1.7400 - val_loss: 1.7438 - val_custom_metric: 1.7432\n",
      "Epoch 17/50\n",
      "2500/2500 - 23s - loss: 1.7398 - custom_metric: 1.7393 - val_loss: 1.7432 - val_custom_metric: 1.7426\n",
      "Epoch 18/50\n",
      "2500/2500 - 24s - loss: 1.7399 - custom_metric: 1.7393 - val_loss: 1.7434 - val_custom_metric: 1.7429\n",
      "Epoch 19/50\n",
      "2500/2500 - 23s - loss: 1.7394 - custom_metric: 1.7388 - val_loss: 1.7431 - val_custom_metric: 1.7426\n",
      "Epoch 20/50\n",
      "2500/2500 - 23s - loss: 1.7387 - custom_metric: 1.7382 - val_loss: 1.7430 - val_custom_metric: 1.7424\n",
      "Epoch 21/50\n",
      "2500/2500 - 23s - loss: 1.7390 - custom_metric: 1.7384 - val_loss: 1.7431 - val_custom_metric: 1.7425\n",
      "Epoch 22/50\n",
      "2500/2500 - 23s - loss: 1.7388 - custom_metric: 1.7382 - val_loss: 1.7432 - val_custom_metric: 1.7427\n",
      "Epoch 23/50\n",
      "2500/2500 - 23s - loss: 1.7377 - custom_metric: 1.7371 - val_loss: 1.7429 - val_custom_metric: 1.7424\n",
      "Epoch 24/50\n",
      "2500/2500 - 23s - loss: 1.7383 - custom_metric: 1.7377 - val_loss: 1.7429 - val_custom_metric: 1.7423\n",
      "Epoch 25/50\n",
      "2500/2500 - 23s - loss: 1.7381 - custom_metric: 1.7376 - val_loss: 1.7431 - val_custom_metric: 1.7425\n",
      "Epoch 26/50\n",
      "2500/2500 - 23s - loss: 1.7380 - custom_metric: 1.7374 - val_loss: 1.7430 - val_custom_metric: 1.7424\n",
      "Epoch 27/50\n",
      "2500/2500 - 25s - loss: 1.7376 - custom_metric: 1.7371 - val_loss: 1.7430 - val_custom_metric: 1.7424\n",
      "Epoch 28/50\n",
      "2500/2500 - 24s - loss: 1.7379 - custom_metric: 1.7374 - val_loss: 1.7430 - val_custom_metric: 1.7425\n",
      "Epoch 29/50\n",
      "2500/2500 - 23s - loss: 1.7373 - custom_metric: 1.7368 - val_loss: 1.7428 - val_custom_metric: 1.7423\n",
      "Epoch 30/50\n",
      "2500/2500 - 23s - loss: 1.7378 - custom_metric: 1.7372 - val_loss: 1.7429 - val_custom_metric: 1.7423\n",
      "Epoch 31/50\n",
      "2500/2500 - 23s - loss: 1.7373 - custom_metric: 1.7368 - val_loss: 1.7429 - val_custom_metric: 1.7423\n",
      "Epoch 32/50\n",
      "2500/2500 - 24s - loss: 1.7373 - custom_metric: 1.7368 - val_loss: 1.7428 - val_custom_metric: 1.7423\n",
      "Epoch 33/50\n",
      "2500/2500 - 24s - loss: 1.7373 - custom_metric: 1.7368 - val_loss: 1.7429 - val_custom_metric: 1.7423\n",
      "Epoch 34/50\n",
      "2500/2500 - 24s - loss: 1.7371 - custom_metric: 1.7366 - val_loss: 1.7429 - val_custom_metric: 1.7423\n",
      "Epoch 35/50\n",
      "2500/2500 - 24s - loss: 1.7367 - custom_metric: 1.7361 - val_loss: 1.7429 - val_custom_metric: 1.7424\n",
      "Epoch 36/50\n",
      "2500/2500 - 24s - loss: 1.7372 - custom_metric: 1.7366 - val_loss: 1.7429 - val_custom_metric: 1.7424\n",
      "Epoch 37/50\n",
      "2500/2500 - 23s - loss: 1.7373 - custom_metric: 1.7367 - val_loss: 1.7429 - val_custom_metric: 1.7424\n",
      "Epoch 38/50\n",
      "2500/2500 - 23s - loss: 1.7371 - custom_metric: 1.7366 - val_loss: 1.7429 - val_custom_metric: 1.7424\n",
      "Epoch 39/50\n",
      "2500/2500 - 23s - loss: 1.7371 - custom_metric: 1.7366 - val_loss: 1.7429 - val_custom_metric: 1.7423\n",
      "Wall time: 14min 47s\n"
     ]
    }
   ],
   "source": [
    "%%time\n",
    "BS = 64\n",
    "EPOCH = 50\n",
    "model.compile(\n",
    "    loss='categorical_crossentropy',\n",
    "    optimizer=tf.keras.optimizers.Adam(learning_rate=2e-4),\n",
    "    metrics=custom_metric)\n",
    "history = model.fit(\n",
    "    X_train,\n",
    "    y_train,\n",
    "    batch_size=BS, \n",
    "    epochs=EPOCH,\n",
    "    validation_data=(X_val, y_val),\n",
    "    callbacks=[es, plateau],\n",
    "    verbose=2)"
   ]
  },
  {
   "cell_type": "code",
   "execution_count": 19,
   "id": "taken-table",
   "metadata": {},
   "outputs": [],
   "source": [
    "def show_learning_curves(history, filename=None):\n",
    "    acc_func = 'custom_metric'\n",
    "    fig, ax = plt.subplots(1, 2, figsize=(15, 6))\n",
    "    # first plot\n",
    "    ax[0].plot(history.history[acc_func])\n",
    "    ax[0].plot(history.history['val_'+acc_func])\n",
    "    ax[0].set_title('Model Accuracy')\n",
    "    ax[0].set_ylabel('Accuracy')\n",
    "    ax[0].set_xlabel('Epoch')\n",
    "    ax[0].legend(\n",
    "        ['train', 'validation'],\n",
    "        loc='upper left')\n",
    "    ax[0].grid()\n",
    "    # second plot\n",
    "    ax[1].plot(history.history['loss'])\n",
    "    ax[1].plot(history.history['val_loss'])\n",
    "    ax[1].set_title('Model Loss')\n",
    "    ax[1].set_ylabel('Loss')\n",
    "    ax[1].set_xlabel('Epoch')\n",
    "    ax[1].legend(\n",
    "        ['train', 'validation'],\n",
    "        loc='upper left')\n",
    "    ax[1].grid()\n",
    "    # saving\n",
    "    if filename is not None:\n",
    "        plt.savefig(filename, dpi=150)"
   ]
  },
  {
   "cell_type": "code",
   "execution_count": 20,
   "id": "medium-access",
   "metadata": {},
   "outputs": [
    {
     "data": {
      "image/png": "[encoded data removed]",
      "text/plain": [
       "<Figure size 1080x432 with 2 Axes>"
      ]
     },
     "metadata": {
      "needs_background": "light"
     },
     "output_type": "display_data"
    }
   ],
   "source": [
    "show_learning_curves(history)"
   ]
  },
  {
   "cell_type": "code",
   "execution_count": 21,
   "id": "sustainable-miracle",
   "metadata": {},
   "outputs": [],
   "source": [
    "# saving\n",
    "model.save(\"purchot_neural_network_modified.h5\")"
   ]
  },
  {
   "cell_type": "code",
   "execution_count": 22,
   "id": "loose-insertion",
   "metadata": {},
   "outputs": [],
   "source": [
    "X_test = test.iloc[:, 1:].values\n",
    "test_pred = model.predict(X_test)\n",
    "# saving the results\n",
    "res = pd.DataFrame()\n",
    "res['id'] = test['id']\n",
    "res[['Class_' + str(i) for i in range(1, 10)]] = test_pred\n",
    "res.to_csv('Purchot_modified_neural_network.csv', index=False)"
   ]
  },
  {
   "cell_type": "code",
   "execution_count": 26,
   "id": "faced-clock",
   "metadata": {},
   "outputs": [],
   "source": [
    "classes = np.argmax(test_pred, axis=1)\n",
    "test['target'] = classes.tolist()"
   ]
  },
  {
   "cell_type": "code",
   "execution_count": 27,
   "id": "considerable-lodge",
   "metadata": {},
   "outputs": [],
   "source": [
    "y_values_train = train['target'].value_counts(\n",
    "    normalize=True)\n",
    "y_values_test = test['target'].value_counts(\n",
    "    normalize=True)\n",
    "x, y_test, y_train = np.arange(9), np.zeros(9), np.zeros(9)\n",
    "y_test[y_values_test.index] = y_values_test.values\n",
    "y_train[y_values_train.index-1] = y_values_train.values"
   ]
  },
  {
   "cell_type": "code",
   "execution_count": 28,
   "id": "german-painting",
   "metadata": {},
   "outputs": [
    {
     "data": {
      "image/png": "[encoded data removed]",
      "text/plain": [
       "<Figure size 936x432 with 2 Axes>"
      ]
     },
     "metadata": {
      "needs_background": "light"
     },
     "output_type": "display_data"
    }
   ],
   "source": [
    "# display predicted and train classes distribution\n",
    "fig, ax = plt.subplots(1, 2, figsize=(13, 6))\n",
    "# first plot\n",
    "ax[0].bar(x+1, y_test)\n",
    "ax[0].set_title('Test set (Predictions)')\n",
    "ax[0].set_xlabel('Product category')\n",
    "ax[0].set_ylabel('Distribution (%)')\n",
    "# second plot\n",
    "ax[1].bar(x+1, y_train)\n",
    "ax[1].set_title('Train set')\n",
    "ax[1].set_xlabel('Product category')\n",
    "ax[1].set_ylabel('Distribution (%)')\n",
    "plt.show()"
   ]
  },
  {
   "cell_type": "code",
   "execution_count": null,
   "id": "partial-lighter",
   "metadata": {},
   "outputs": [],
   "source": []
  }
 ],
 "metadata": {
  "kernelspec": {
   "display_name": "oc-p8-env",
   "language": "python",
   "name": "oc-p8-env"
  },
  "language_info": {
   "codemirror_mode": {
    "name": "ipython",
    "version": 3
   },
   "file_extension": ".py",
   "mimetype": "text/x-python",
   "name": "python",
   "nbconvert_exporter": "python",
   "pygments_lexer": "ipython3",
   "version": "3.9.1"
  }
 },
 "nbformat": 4,
 "nbformat_minor": 5
}
